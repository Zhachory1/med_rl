{
 "cells": [
  {
   "cell_type": "markdown",
   "metadata": {},
   "source": [
    "# Q-Table Learning"
   ]
  },
  {
   "cell_type": "code",
   "execution_count": 2,
   "metadata": {},
   "outputs": [],
   "source": [
    "import gym\n",
    "import numpy as np\n",
    "import matplotlib.pyplot as plt\n",
    "%matplotlib inline\n",
    "\n",
    "import random\n",
    "import tensorflow as tf"
   ]
  },
  {
   "cell_type": "markdown",
   "metadata": {},
   "source": [
    "Let's load the Frozen Lake v0 environment"
   ]
  },
  {
   "cell_type": "code",
   "execution_count": 4,
   "metadata": {},
   "outputs": [
    {
     "name": "stdout",
     "output_type": "stream",
     "text": [
      "\n",
      "\u001b[41mS\u001b[0mFFF\n",
      "FHFH\n",
      "FFFH\n",
      "HFFG\n"
     ]
    }
   ],
   "source": [
    "env = gym.make(\"FrozenLake-v0\")\n",
    "env.render()"
   ]
  },
  {
   "cell_type": "markdown",
   "metadata": {},
   "source": [
    "Let's implement the Q-Table algorithm. It's going to be a giant table with all the states as rows and all the actions as columns. Each episode, we are going to update the cell $Q(s,a)$ with the Bellman equation.\n",
    "\n",
    "$$Q(s,a) = r + \\lambda(max(Q(s`, a`))$$\n",
    "\n",
    "Where s is the current state, a is the current action taken, r is the reward from that action, $\\lambda$ is the discount factor of future rewards, \\` are the next variables, and $Q(a, b)$ is a lookup in the table."
   ]
  },
  {
   "cell_type": "code",
   "execution_count": 5,
   "metadata": {},
   "outputs": [],
   "source": [
    "# Create table with all zeros.\n",
    "Q = np.zeros([env.observation_space.n, env.action_space.n])"
   ]
  },
  {
   "cell_type": "code",
   "execution_count": 6,
   "metadata": {},
   "outputs": [],
   "source": [
    "# Learning params\n",
    "lr = 0.8\n",
    "y = 0.95\n",
    "num_episodes = 2000"
   ]
  },
  {
   "cell_type": "code",
   "execution_count": 7,
   "metadata": {},
   "outputs": [],
   "source": [
    "# Create lists to conatin total rewards and steps per episode\n",
    "jList = []\n",
    "rList = []"
   ]
  },
  {
   "cell_type": "markdown",
   "metadata": {},
   "source": [
    "Lets start the learning!\n",
    "\n",
    "So for each episode (which is defined by the algorithm running \n",
    "until the gym terminates or the number of steps exceeds 99), we \n",
    "reset the env to the beginning state and start counting the steps \n",
    "and reward.\n",
    "\n",
    "For each step in a given episode, we calculate the best action by \n",
    "finding the max arg in the row, given the state. However, since we \n",
    "want to be exploratory at first, we add some noise to all the \n",
    "actions. The amount of noise we add decrease with respect to the \n",
    "episode we are on.\n",
    "\n",
    "So the equation we are calculating is given here. \n",
    "\n",
    "$$ a = max (a(s) + \\frac{u}{1+i})$$\n",
    "\n",
    "Where $s$ is the current state, $a(s)$ is a function to return a \n",
    "vector rewards that could be had if we took the corresponding \n",
    "actions, $u$ is a vector of size (1, action_space) with normally \n",
    "random numbers, and $i$ is the current episode number. \n",
    "\n",
    "With that action, we grab the new state, the reward, and whether or \n",
    "not the episode terminated. With the reward, we update Q(s,a) with \n",
    "r and the discounted reward of a future action, which also subtract \n",
    "our current reward from, because we don't want to double count \n",
    "rewards.\n",
    "\n",
    "We update the total rewards, set the current state as the new \n",
    "state, and if the episode terminate, terminate the loop."
   ]
  },
  {
   "cell_type": "code",
   "execution_count": 8,
   "metadata": {},
   "outputs": [],
   "source": [
    "for i in xrange(num_episodes):\n",
    "    s = env.reset() # state\n",
    "    rAll = 0 # total reward\n",
    "    d = False # has the episode terminated\n",
    "    j = 0 # number of steps taken\n",
    "    while j < 99:\n",
    "        j += 1\n",
    "        # Greedily choose an action (with noise) from the table\n",
    "        a = np.argmax(Q[s,:] + np.random.randn(1, env.action_space.n)*(1./(1+i)))\n",
    "        s1, r, d, _ = env.step(a)\n",
    "        Q[s, a] = Q[s, a] + lr*(r + y*np.max(Q[s1, :]) - Q[s, a])\n",
    "        rAll += r\n",
    "        s = s1\n",
    "        if d:\n",
    "            break\n",
    "    jList.append(j)\n",
    "    rList.append(rAll)"
   ]
  },
  {
   "cell_type": "code",
   "execution_count": 9,
   "metadata": {},
   "outputs": [
    {
     "name": "stdout",
     "output_type": "stream",
     "text": [
      "Score over time: 0.6145\n"
     ]
    }
   ],
   "source": [
    "print \"Score over time: \" + str(sum(rList)/num_episodes)"
   ]
  },
  {
   "cell_type": "code",
   "execution_count": 10,
   "metadata": {},
   "outputs": [
    {
     "name": "stdout",
     "output_type": "stream",
     "text": [
      "Final Q-Table Values\n",
      "[[1.26575031e-01 6.73144223e-03 1.13960773e-02 1.43715407e-02]\n",
      " [1.30467355e-03 1.27238591e-03 2.75512974e-03 1.98747384e-01]\n",
      " [3.26232151e-03 4.72521195e-03 5.43005715e-03 1.36696831e-01]\n",
      " [7.92609722e-04 8.92292513e-04 3.75734636e-03 1.45128148e-01]\n",
      " [1.57078195e-01 1.06112446e-03 1.49019684e-03 1.35224522e-03]\n",
      " [0.00000000e+00 0.00000000e+00 0.00000000e+00 0.00000000e+00]\n",
      " [2.17217417e-05 7.84943763e-04 1.54901591e-01 1.55157273e-05]\n",
      " [0.00000000e+00 0.00000000e+00 0.00000000e+00 0.00000000e+00]\n",
      " [5.23300511e-05 9.44251187e-04 3.62866873e-05 2.12490437e-01]\n",
      " [0.00000000e+00 2.74951980e-01 0.00000000e+00 0.00000000e+00]\n",
      " [6.36126910e-01 0.00000000e+00 2.71009179e-03 1.01654148e-04]\n",
      " [0.00000000e+00 0.00000000e+00 0.00000000e+00 0.00000000e+00]\n",
      " [0.00000000e+00 0.00000000e+00 0.00000000e+00 0.00000000e+00]\n",
      " [0.00000000e+00 0.00000000e+00 4.37798528e-01 0.00000000e+00]\n",
      " [0.00000000e+00 8.94675875e-01 0.00000000e+00 0.00000000e+00]\n",
      " [0.00000000e+00 0.00000000e+00 0.00000000e+00 0.00000000e+00]]\n"
     ]
    }
   ],
   "source": [
    "print \"Final Q-Table Values\"\n",
    "print Q"
   ]
  },
  {
   "cell_type": "code",
   "execution_count": 11,
   "metadata": {},
   "outputs": [
    {
     "data": {
      "image/png": "[encoded data removed]",
      "text/plain": [
       "<Figure size 432x288 with 1 Axes>"
      ]
     },
     "metadata": {},
     "output_type": "display_data"
    }
   ],
   "source": [
    "plt.plot(range(2000), rList)\n",
    "plt.show()"
   ]
  },
  {
   "cell_type": "code",
   "execution_count": 12,
   "metadata": {},
   "outputs": [
    {
     "data": {
      "image/png": "[encoded data removed]",
      "text/plain": [
       "<Figure size 432x288 with 1 Axes>"
      ]
     },
     "metadata": {},
     "output_type": "display_data"
    }
   ],
   "source": [
    "plt.plot(range(2000), jList)\n",
    "plt.show()"
   ]
  },
  {
   "cell_type": "markdown",
   "metadata": {},
   "source": [
    "# Q-Network Learning"
   ]
  },
  {
   "cell_type": "markdown",
   "metadata": {},
   "source": [
    "I am going to implement Q-learning with a neural network instead \n",
    "of a table!\n",
    "\n",
    "We already have the environment loaded, so let's go ahead and make \n",
    "the model.\n",
    "\n",
    "Obviously we need some kind of objective/loss function to update \n",
    "the parameters in the network. So we will use the sum of squares \n",
    "for the difference between the Q-target and the Q-prediction.\n",
    "\n",
    "$$ L(\\theta) = \\sum(Q_t - Q_p)^2 $$"
   ]
  },
  {
   "cell_type": "code",
   "execution_count": 15,
   "metadata": {},
   "outputs": [],
   "source": [
    "tf.reset_default_graph()\n",
    "input_size = 16\n",
    "output_size = 4\n",
    "lr = 2e-3"
   ]
  },
  {
   "cell_type": "markdown",
   "metadata": {},
   "source": [
    "Let's make the model!"
   ]
  },
  {
   "cell_type": "code",
   "execution_count": 16,
   "metadata": {},
   "outputs": [],
   "source": [
    "inputs1 = tf.placeholder(shape=[1,input_size], dtype=tf.float32)\n",
    "W = tf.Variable(tf.random_uniform([input_size, output_size], 0, 0.01))\n",
    "Qout = tf.matmul(inputs1, W)\n",
    "predict = tf.argmax(Qout, 1)\n",
    "\n",
    "nextQ = tf.placeholder(shape=[1,output_size], dtype=tf.float32)\n",
    "loss = tf.reduce_sum(tf.square(nextQ - Qout))\n",
    "optimizer = tf.train.AdamOptimizer(learning_rate=lr)\n",
    "train_op = optimizer.minimize(loss)\n",
    "\n",
    "init = tf.global_variables_initializer()"
   ]
  },
  {
   "cell_type": "markdown",
   "metadata": {},
   "source": [
    "Let's start training the network, but there are a couple of things here that I need to get straight. \n",
    "\n",
    "One is that we are still adding \"noise\" to our action selection by have a hyperparameter e. If a uniform random number `[0,1)` is below e, then a random action is taken. e is degregaded with respect to the episode number.\n",
    "\n",
    "$$ e` = \\frac{1}{0.02i + 10} $$\n",
    "\n",
    "And two, we are still performing the Bellman equation, shown above, but in a different way. To train the network, we need a target. The Bellman gives us that target. We take the reward from the action we picked initially (either randomly or by the network), find the next state reward, and then apply the Bellman equation to get a target Q value of our current state! With that in mind, we can update our loss function to something along the lines of this:\n",
    "\n",
    "$$ L(s, a) = \\sum((r + \\lambda Q(s`, a`)) - Q(s, a))^2 $$"
   ]
  },
  {
   "cell_type": "code",
   "execution_count": 17,
   "metadata": {},
   "outputs": [
    {
     "name": "stdout",
     "output_type": "stream",
     "text": [
      "Percent of successful episodes: 0.299%\n"
     ]
    }
   ],
   "source": [
    "y = 0.99 # Discounting factor\n",
    "e = 0.1 # Random chance for random action\n",
    "num_episodes = 2000\n",
    "jList = []\n",
    "rList = []\n",
    "lList = []\n",
    "\n",
    "with tf.Session() as sess:\n",
    "    sess.run(init)\n",
    "    for i in xrange(num_episodes):\n",
    "        s = env.reset()\n",
    "        rAll = 0\n",
    "        d = False\n",
    "        j = 0\n",
    "        lListPre = []\n",
    "        while j < 99:\n",
    "            j += 1\n",
    "            a, allQ = sess.run(\n",
    "                [predict, Qout],\n",
    "                feed_dict={inputs1:np.identity(16)[s:s+1]})\n",
    "            # Grab random action for exploratory reasons!\n",
    "            if np.random.rand(1) < e:\n",
    "                a[0] = env.action_space.sample()\n",
    "            s1, r, d, _ = env.step(a[0])\n",
    "            Q1 = sess.run(\n",
    "                Qout, \n",
    "                feed_dict={inputs1:np.identity(16)[s1:s1+1]})\n",
    "            maxQ1 = np.max(Q1)\n",
    "            targetQ = allQ\n",
    "            targetQ[0, a[0]] = r+(y*maxQ1) # The target is the reward!\n",
    "            _, l = sess.run(\n",
    "                [train_op, loss],\n",
    "                feed_dict={\n",
    "                    inputs1:np.identity(16)[s:s+1],\n",
    "                    nextQ:targetQ})\n",
    "            rAll += r\n",
    "            s = s1\n",
    "            lListPre.append(l)\n",
    "            if d:\n",
    "                #Reduce chance of random action as we train the model.\n",
    "                e = 1./((i/50) + 10)\n",
    "                break\n",
    "        jList.append(j)\n",
    "        rList.append(rAll)\n",
    "        lList.append(sum(lListPre))\n",
    "print \"Percent of successful episodes: \" + str(sum(rList)/num_episodes) + \"%\""
   ]
  },
  {
   "cell_type": "code",
   "execution_count": 18,
   "metadata": {},
   "outputs": [
    {
     "data": {
      "text/plain": [
       "[<matplotlib.lines.Line2D at 0x7ff1f6350950>]"
      ]
     },
     "execution_count": 18,
     "metadata": {},
     "output_type": "execute_result"
    },
    {
     "data": {
      "image/png": "[encoded data removed]",
      "text/plain": [
       "<Figure size 432x288 with 1 Axes>"
      ]
     },
     "metadata": {},
     "output_type": "display_data"
    }
   ],
   "source": [
    "plt.plot(lList)"
   ]
  },
  {
   "cell_type": "code",
   "execution_count": 19,
   "metadata": {},
   "outputs": [
    {
     "data": {
      "text/plain": [
       "[<matplotlib.lines.Line2D at 0x7ff1f6460d90>]"
      ]
     },
     "execution_count": 19,
     "metadata": {},
     "output_type": "execute_result"
    },
    {
     "data": {
      "image/png": "[encoded data removed]",
      "text/plain": [
       "<Figure size 432x288 with 1 Axes>"
      ]
     },
     "metadata": {},
     "output_type": "display_data"
    }
   ],
   "source": [
    "plt.plot(rList)"
   ]
  },
  {
   "cell_type": "code",
   "execution_count": 20,
   "metadata": {},
   "outputs": [
    {
     "data": {
      "text/plain": [
       "[<matplotlib.lines.Line2D at 0x7ff1f65a7850>]"
      ]
     },
     "execution_count": 20,
     "metadata": {},
     "output_type": "execute_result"
    },
    {
     "data": {
      "image/png": "[encoded data removed]",
      "text/plain": [
       "<Figure size 432x288 with 1 Axes>"
      ]
     },
     "metadata": {},
     "output_type": "display_data"
    }
   ],
   "source": [
    "plt.plot(jList)"
   ]
  },
  {
   "cell_type": "code",
   "execution_count": null,
   "metadata": {},
   "outputs": [],
   "source": []
  }
 ],
 "metadata": {
  "kernelspec": {
   "display_name": "Python 2",
   "language": "python",
   "name": "python2"
  },
  "language_info": {
   "codemirror_mode": {
    "name": "ipython",
    "version": 2
   },
   "file_extension": ".py",
   "mimetype": "text/x-python",
   "name": "python",
   "nbconvert_exporter": "python",
   "pygments_lexer": "ipython2",
   "version": "2.7.14"
  }
 },
 "nbformat": 4,
 "nbformat_minor": 2
}
