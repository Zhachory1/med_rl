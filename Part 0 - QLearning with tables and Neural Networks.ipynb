{
 "cells": [
  {
   "cell_type": "markdown",
   "metadata": {},
   "source": [
    "# Q-Table Learning"
   ]
  },
  {
   "cell_type": "code",
   "execution_count": 52,
   "metadata": {},
   "outputs": [],
   "source": [
    "import gym\n",
    "import numpy as np\n",
    "import matplotlib.pyplot as plt\n",
    "%matplotlib inline\n",
    "\n",
    "import random\n",
    "import tensorflow as tf"
   ]
  },
  {
   "cell_type": "markdown",
   "metadata": {},
   "source": [
    "Let's load the Frozen Lake v0 environment"
   ]
  },
  {
   "cell_type": "code",
   "execution_count": 136,
   "metadata": {},
   "outputs": [],
   "source": [
    "env = gym.make(\"FrozenLake-v0\")"
   ]
  },
  {
   "cell_type": "markdown",
   "metadata": {},
   "source": [
    "Let's implement the Q-Table algorithm. It's going to be a giant table with all the states as rows and all the actions as columns. Each episode, we are going to update the cell $Q(s,a)$ with the Bellman equation.\n",
    "\n",
    "$$Q(s,a) = r + \\lambda(max(Q(s`, a`))$$\n",
    "\n",
    "Where s is the current state, a is the current action taken, r is the reward from that action, $\\lambda$ is the discount factor of future rewards, \\` are the next variables, and $Q(a, b)$ is a lookup in the table."
   ]
  },
  {
   "cell_type": "code",
   "execution_count": 54,
   "metadata": {},
   "outputs": [],
   "source": [
    "# Create table with all zeros.\n",
    "Q = np.zeros([env.observation_space.n, env.action_space.n])"
   ]
  },
  {
   "cell_type": "code",
   "execution_count": 55,
   "metadata": {},
   "outputs": [],
   "source": [
    "# Learning params\n",
    "lr = 0.8\n",
    "y = 0.95\n",
    "num_episodes = 2000"
   ]
  },
  {
   "cell_type": "code",
   "execution_count": 56,
   "metadata": {},
   "outputs": [],
   "source": [
    "# Create lists to conatin total rewards and steps per episode\n",
    "jList = []\n",
    "rList = []"
   ]
  },
  {
   "cell_type": "markdown",
   "metadata": {},
   "source": [
    "Lets start the learning!\n",
    "\n",
    "So for each episode (which is defined by the algorithm running \n",
    "until the gym terminates or the number of steps exceeds 99), we \n",
    "reset the env to the beginning state and start counting the steps \n",
    "and reward.\n",
    "\n",
    "For each step in a given episode, we calculate the best action by \n",
    "finding the max arg in the row, given the state. However, since we \n",
    "want to be exploratory at first, we add some noise to all the \n",
    "actions. The amount of noise we add decrease with respect to the \n",
    "episode we are on.\n",
    "\n",
    "So the equation we are calculating is given here. \n",
    "\n",
    "$$ a = max (a(s) + \\frac{u}{1+i})$$\n",
    "\n",
    "Where $s$ is the current state, $a(s)$ is a function to return a \n",
    "vector rewards that could be had if we took the corresponding \n",
    "actions, $u$ is a vector of size (1, action_space) with normally \n",
    "random numbers, and $i$ is the current episode number. \n",
    "\n",
    "With that action, we grab the new state, the reward, and whether or \n",
    "not the episode terminated. With the reward, we update Q(s,a) with \n",
    "r and the discounted reward of a future action, which also subtract \n",
    "our current reward from, because we don't want to double count \n",
    "rewards.\n",
    "\n",
    "We update the total rewards, set the current state as the new \n",
    "state, and if the episode terminate, terminate the loop."
   ]
  },
  {
   "cell_type": "code",
   "execution_count": 57,
   "metadata": {},
   "outputs": [],
   "source": [
    "for i in xrange(num_episodes):\n",
    "    s = env.reset() # state\n",
    "    rAll = 0 # total reward\n",
    "    d = False # has the episode terminated\n",
    "    j = 0 # number of steps taken\n",
    "    while j < 99:\n",
    "        j += 1\n",
    "        # Greedily choose an action (with noise) from the table\n",
    "        a = np.argmax(Q[s,:] + np.random.randn(1, env.action_space.n)*(1./(1+i)))\n",
    "        s1, r, d, _ = env.step(a)\n",
    "        Q[s, a] = Q[s, a] + lr*(r + y*np.max(Q[s1, :]) - Q[s, a])\n",
    "        rAll += r\n",
    "        s = s1\n",
    "        if d:\n",
    "            break\n",
    "    jList.append(j)\n",
    "    rList.append(rAll)"
   ]
  },
  {
   "cell_type": "code",
   "execution_count": 58,
   "metadata": {},
   "outputs": [
    {
     "name": "stdout",
     "output_type": "stream",
     "text": [
      "Score over time: 0.5175\n"
     ]
    }
   ],
   "source": [
    "print \"Score over time: \" + str(sum(rList)/num_episodes)"
   ]
  },
  {
   "cell_type": "code",
   "execution_count": 59,
   "metadata": {},
   "outputs": [
    {
     "name": "stdout",
     "output_type": "stream",
     "text": [
      "Final Q-Table Values\n",
      "[[  3.85494618e-03   3.41268864e-01   4.52645139e-03   4.71291001e-03]\n",
      " [  1.40015285e-03   1.85037900e-03   1.21366832e-03   3.65027778e-02]\n",
      " [  1.48788135e-03   1.62231396e-03   1.22524495e-03   1.79664385e-02]\n",
      " [  6.59000719e-04   9.77300148e-05   3.11494771e-04   1.05465595e-02]\n",
      " [  2.44235959e-01   6.59167097e-04   1.07866355e-03   1.22905816e-03]\n",
      " [  0.00000000e+00   0.00000000e+00   0.00000000e+00   0.00000000e+00]\n",
      " [  7.84750421e-05   2.22300779e-05   6.93632522e-05   1.34607151e-06]\n",
      " [  0.00000000e+00   0.00000000e+00   0.00000000e+00   0.00000000e+00]\n",
      " [  1.70158409e-04   9.81551569e-04   1.06985190e-03   4.38522248e-01]\n",
      " [  0.00000000e+00   6.32370679e-01   1.55278079e-03   0.00000000e+00]\n",
      " [  1.39581139e-01   0.00000000e+00   0.00000000e+00   0.00000000e+00]\n",
      " [  0.00000000e+00   0.00000000e+00   0.00000000e+00   0.00000000e+00]\n",
      " [  0.00000000e+00   0.00000000e+00   0.00000000e+00   0.00000000e+00]\n",
      " [  2.33447961e-03   2.50408386e-04   8.47552109e-01   3.73475609e-03]\n",
      " [  0.00000000e+00   0.00000000e+00   9.45236421e-01   0.00000000e+00]\n",
      " [  0.00000000e+00   0.00000000e+00   0.00000000e+00   0.00000000e+00]]\n"
     ]
    }
   ],
   "source": [
    "print \"Final Q-Table Values\"\n",
    "print Q"
   ]
  },
  {
   "cell_type": "code",
   "execution_count": 60,
   "metadata": {},
   "outputs": [
    {
     "data": {
      "image/png": "[encoded data removed]",
      "text/plain": [
       "<matplotlib.figure.Figure at 0x7f0b91eda510>"
      ]
     },
     "metadata": {},
     "output_type": "display_data"
    }
   ],
   "source": [
    "plt.plot(range(2000), rList)\n",
    "plt.show()"
   ]
  },
  {
   "cell_type": "code",
   "execution_count": 61,
   "metadata": {},
   "outputs": [
    {
     "data": {
      "image/png": "[encoded data removed]",
      "text/plain": [
       "<matplotlib.figure.Figure at 0x7f0b91ebfed0>"
      ]
     },
     "metadata": {},
     "output_type": "display_data"
    }
   ],
   "source": [
    "plt.plot(range(2000), jList)\n",
    "plt.show()"
   ]
  },
  {
   "cell_type": "markdown",
   "metadata": {},
   "source": [
    "# Q-Network Learning"
   ]
  },
  {
   "cell_type": "markdown",
   "metadata": {},
   "source": [
    "I am going to implement Q-learning with a neural network instead \n",
    "of a table!\n",
    "\n",
    "We already have the environment loaded, so let's go ahead and make \n",
    "the model.\n",
    "\n",
    "Obviously we need some kind of objective/loss function to update \n",
    "the parameters in the network. So we will use the sum of squares \n",
    "for the difference between the Q-target and the Q-prediction.\n",
    "\n",
    "$$ L(\\theta) = \\sum(Q_t - Q_p)^2 $$"
   ]
  },
  {
   "cell_type": "code",
   "execution_count": 165,
   "metadata": {},
   "outputs": [],
   "source": [
    "tf.reset_default_graph()\n",
    "input_size = 16\n",
    "output_size = 4\n",
    "lr = 2e-3"
   ]
  },
  {
   "cell_type": "markdown",
   "metadata": {},
   "source": [
    "Let's make the model!"
   ]
  },
  {
   "cell_type": "code",
   "execution_count": 166,
   "metadata": {},
   "outputs": [],
   "source": [
    "inputs1 = tf.placeholder(shape=[1,input_size], dtype=tf.float32)\n",
    "W = tf.Variable(tf.random_uniform([input_size, output_size], 0, 0.01))\n",
    "Qout = tf.matmul(inputs1, W)\n",
    "predict = tf.argmax(Qout, 1)\n",
    "\n",
    "nextQ = tf.placeholder(shape=[1,output_size], dtype=tf.float32)\n",
    "loss = tf.reduce_sum(tf.square(nextQ - Qout))\n",
    "optimizer = tf.train.AdamOptimizer(learning_rate=lr)\n",
    "train_op = optimizer.minimize(loss)\n",
    "\n",
    "init = tf.global_variables_initializer()"
   ]
  },
  {
   "cell_type": "markdown",
   "metadata": {},
   "source": [
    "Let's start training the network, but there are a couple of things here that I need to get straight. \n",
    "\n",
    "One is that we are still adding \"noise\" to our action selection by have a hyperparameter e. If a uniform random number `[0,1)` is below e, then a random action is taken. e is degregaded with respect to the episode number.\n",
    "\n",
    "$$ e` = \\frac{1}{0.02i + 10} $$\n",
    "\n",
    "And two, we are still performing the Bellman equation, shown above, but in a different way. To train the network, we need a target. The Bellman gives us that target. We take the reward from the action we picked initially (either randomly or by the network), find the next state reward, and then apply the Bellman equation to get a target Q value of our current state! With that in mind, we can update our loss function to something along the lines of this:\n",
    "\n",
    "$$ L(s, a) = \\sum((r + \\lambda Q(s`, a`)) - Q(s, a))^2 $$"
   ]
  },
  {
   "cell_type": "code",
   "execution_count": 167,
   "metadata": {},
   "outputs": [
    {
     "name": "stdout",
     "output_type": "stream",
     "text": [
      "Percent of successful episodes: 0.4555%\n"
     ]
    }
   ],
   "source": [
    "y = 0.99 # Discounting factor\n",
    "e = 0.1 # Random chance for random action\n",
    "num_episodes = 2000\n",
    "jList = []\n",
    "rList = []\n",
    "lList = []\n",
    "\n",
    "with tf.Session() as sess:\n",
    "    sess.run(init)\n",
    "    for i in xrange(num_episodes):\n",
    "        s = env.reset()\n",
    "        rAll = 0\n",
    "        d = False\n",
    "        j = 0\n",
    "        lListPre = []\n",
    "        while j < 99:\n",
    "            j += 1\n",
    "            a, allQ = sess.run(\n",
    "                [predict, Qout],\n",
    "                feed_dict={inputs1:np.identity(16)[s:s+1]})\n",
    "            # Grab random action for exploratory reasons!\n",
    "            if np.random.rand(1) < e:\n",
    "                a[0] = env.action_space.sample()\n",
    "            s1, r, d, _ = env.step(a[0])\n",
    "            Q1 = sess.run(\n",
    "                Qout, \n",
    "                feed_dict={inputs1:np.identity(16)[s1:s1+1]})\n",
    "            maxQ1 = np.max(Q1)\n",
    "            targetQ = allQ\n",
    "            targetQ[0, a[0]] = r+(y*maxQ1) # The target is the reward!\n",
    "            _, l = sess.run(\n",
    "                [train_op, loss],\n",
    "                feed_dict={\n",
    "                    inputs1:np.identity(16)[s:s+1],\n",
    "                    nextQ:targetQ})\n",
    "            rAll += r\n",
    "            s = s1\n",
    "            lListPre.append(l)\n",
    "            if d:\n",
    "                #Reduce chance of random action as we train the model.\n",
    "                e = 1./((i/50) + 10)\n",
    "                break\n",
    "        jList.append(j)\n",
    "        rList.append(rAll)\n",
    "        lList.append(sum(lListPre))\n",
    "print \"Percent of successful episodes: \" + str(sum(rList)/num_episodes) + \"%\""
   ]
  },
  {
   "cell_type": "code",
   "execution_count": 168,
   "metadata": {},
   "outputs": [
    {
     "data": {
      "text/plain": [
       "[<matplotlib.lines.Line2D at 0x7f0b8853b190>]"
      ]
     },
     "execution_count": 168,
     "metadata": {},
     "output_type": "execute_result"
    },
    {
     "data": {
      "image/png": "[encoded data removed]",
      "text/plain": [
       "<matplotlib.figure.Figure at 0x7f0b8901e650>"
      ]
     },
     "metadata": {},
     "output_type": "display_data"
    }
   ],
   "source": [
    "plt.plot(lList)"
   ]
  },
  {
   "cell_type": "code",
   "execution_count": 169,
   "metadata": {},
   "outputs": [
    {
     "data": {
      "text/plain": [
       "[<matplotlib.lines.Line2D at 0x7f0b884bf110>]"
      ]
     },
     "execution_count": 169,
     "metadata": {},
     "output_type": "execute_result"
    },
    {
     "data": {
      "image/png": "[encoded data removed]",
      "text/plain": [
       "<matplotlib.figure.Figure at 0x7f0b88875650>"
      ]
     },
     "metadata": {},
     "output_type": "display_data"
    }
   ],
   "source": [
    "plt.plot(rList)"
   ]
  },
  {
   "cell_type": "code",
   "execution_count": 170,
   "metadata": {},
   "outputs": [
    {
     "data": {
      "text/plain": [
       "[<matplotlib.lines.Line2D at 0x7f0b884b5b50>]"
      ]
     },
     "execution_count": 170,
     "metadata": {},
     "output_type": "execute_result"
    },
    {
     "data": {
      "image/png": "[encoded data removed]",
      "text/plain": [
       "<matplotlib.figure.Figure at 0x7f0b884d4f10>"
      ]
     },
     "metadata": {},
     "output_type": "display_data"
    }
   ],
   "source": [
    "plt.plot(jList)"
   ]
  },
  {
   "cell_type": "code",
   "execution_count": null,
   "metadata": {},
   "outputs": [],
   "source": []
  }
 ],
 "metadata": {
  "kernelspec": {
   "display_name": "Python 2",
   "language": "python",
   "name": "python2"
  },
  "language_info": {
   "codemirror_mode": {
    "name": "ipython",
    "version": 2
   },
   "file_extension": ".py",
   "mimetype": "text/x-python",
   "name": "python",
   "nbconvert_exporter": "python",
   "pygments_lexer": "ipython2",
   "version": "2.7.14"
  }
 },
 "nbformat": 4,
 "nbformat_minor": 2
}
